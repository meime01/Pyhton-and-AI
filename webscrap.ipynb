{
 "cells": [
  {
   "cell_type": "markdown",
   "id": "68d8be8a-73f4-46b5-9b01-6edf0df8b1b1",
   "metadata": {},
   "source": [
    "Web Scrapping "
   ]
  },
  {
   "cell_type": "code",
   "execution_count": 1,
   "id": "c2da30a0-6bba-4efc-b4fc-65371a027faf",
   "metadata": {},
   "outputs": [],
   "source": [
    "import requests\n"
   ]
  },
  {
   "cell_type": "code",
   "execution_count": 114,
   "id": "fde030d9-c881-4351-a77a-770b0083bd57",
   "metadata": {},
   "outputs": [
    {
     "ename": "IndexError",
     "evalue": "list index out of range",
     "output_type": "error",
     "traceback": [
      "\u001b[1;31m---------------------------------------------------------------------------\u001b[0m",
      "\u001b[1;31mIndexError\u001b[0m                                Traceback (most recent call last)",
      "Cell \u001b[1;32mIn[114], line 5\u001b[0m\n\u001b[0;32m      3\u001b[0m data \u001b[38;5;241m=\u001b[39m requests\u001b[38;5;241m.\u001b[39mget(standings_url)\n\u001b[0;32m      4\u001b[0m soup \u001b[38;5;241m=\u001b[39m BeautifulSoup(data\u001b[38;5;241m.\u001b[39mtext)\n\u001b[1;32m----> 5\u001b[0m standings_table \u001b[38;5;241m=\u001b[39m soup\u001b[38;5;241m.\u001b[39mselect(\u001b[38;5;124m'\u001b[39m\u001b[38;5;124mtable.stats_table\u001b[39m\u001b[38;5;124m'\u001b[39m)[\u001b[38;5;241m0\u001b[39m]\n\u001b[0;32m      7\u001b[0m links \u001b[38;5;241m=\u001b[39m [l\u001b[38;5;241m.\u001b[39mget(\u001b[38;5;124m\"\u001b[39m\u001b[38;5;124mhref\u001b[39m\u001b[38;5;124m\"\u001b[39m) \u001b[38;5;28;01mfor\u001b[39;00m l \u001b[38;5;129;01min\u001b[39;00m standings_table\u001b[38;5;241m.\u001b[39mfind_all(\u001b[38;5;124m'\u001b[39m\u001b[38;5;124ma\u001b[39m\u001b[38;5;124m'\u001b[39m)]\n\u001b[0;32m      8\u001b[0m links \u001b[38;5;241m=\u001b[39m [l \u001b[38;5;28;01mfor\u001b[39;00m l \u001b[38;5;129;01min\u001b[39;00m links \u001b[38;5;28;01mif\u001b[39;00m \u001b[38;5;124m'\u001b[39m\u001b[38;5;124m/squads/\u001b[39m\u001b[38;5;124m'\u001b[39m \u001b[38;5;129;01min\u001b[39;00m l]\n",
      "\u001b[1;31mIndexError\u001b[0m: list index out of range"
     ]
    }
   ],
   "source": [
    "import time\n",
    "for year in years:\n",
    "    data = requests.get(standings_url)\n",
    "    soup = BeautifulSoup(data.text)\n",
    "    standings_table = soup.select('table.stats_table')[0]\n",
    "\n",
    "    links = [l.get(\"href\") for l in standings_table.find_all('a')]\n",
    "    links = [l for l in links if '/squads/' in l]\n",
    "    team_urls = [\"https://fbref.com{l}\" for l in links]\n",
    "    \n",
    "    previous_season = soup.select(\"a.prev\")[0].get(\"href\")\n",
    "    standings_url = \"https://fbref.com{previous_season}\"\n",
    "    \n",
    "    for team_url in team_urls:\n",
    "        team_name = team_url.split(\"/\")[-1].replace(\"-Stats\", \"\").replace(\"-\", \" \")\n",
    "        data = requests.get(team_url)\n",
    "        matches = pd.read_html(data.text, match=\"Scores & Fixtures\")[0]\n",
    "        soup = BeautifulSoup(data.text)\n",
    "        links = [l.get(\"href\") for l in soup.find_all('a')]\n",
    "        links = [l for l in links if l and 'all_comps/shooting/' in l]\n",
    "        data = requests.get(\"https://fbref.com{links[0]}\")\n",
    "        shooting = pd.read_html(data.text, match=\"Shooting\")[0]\n",
    "        shooting.columns = shooting.columns.droplevel()\n",
    "        try:\n",
    "            team_data = matches.merge(shooting[[\"Date\", \"Sh\", \"SoT\", \"Dist\", \"FK\", \"PK\", \"PKatt\"]], on=\"Date\")\n",
    "        except ValueError:\n",
    "            continue\n",
    "        team_data = team_data[team_data[\"Comp\"] == \"Premier League\"]\n",
    "        \n",
    "        team_data[\"Season\"] = year\n",
    "        team_data[\"Team\"] = team_name\n",
    "        all_matches.append(team_data)\n",
    "        time.sleep(1)"
   ]
  },
  {
   "cell_type": "code",
   "execution_count": 6,
   "id": "097372a0-a6ec-4905-82bf-3b76757111ca",
   "metadata": {},
   "outputs": [],
   "source": [
    "standings_url = \"https://fbref.com/en/comps/9/Premier-League-Stats\""
   ]
  },
  {
   "cell_type": "code",
   "execution_count": 9,
   "id": "d06fd5ae-6001-4ac2-865b-c5350ff5669c",
   "metadata": {},
   "outputs": [],
   "source": [
    "data = requests.get(standings_url)"
   ]
  },
  {
   "cell_type": "code",
   "execution_count": 10,
   "id": "fcf53406-9134-4bb0-811f-08abc46ad61b",
   "metadata": {},
   "outputs": [],
   "source": [
    "from bs4 import BeautifulSoup\n"
   ]
  },
  {
   "cell_type": "code",
   "execution_count": 11,
   "id": "5c2486ea-ecc9-4937-aa69-26be42092c81",
   "metadata": {},
   "outputs": [],
   "source": [
    "soup = BeautifulSoup(data.text)"
   ]
  },
  {
   "cell_type": "code",
   "execution_count": 12,
   "id": "1e4533e2-aeb6-4cb5-b2da-b20b064ae3b7",
   "metadata": {},
   "outputs": [],
   "source": [
    "standings_table = soup.select('table.stats_table')[0]"
   ]
  },
  {
   "cell_type": "code",
   "execution_count": 14,
   "id": "151cf3f5-f860-4860-9fac-9acbdadb68bf",
   "metadata": {},
   "outputs": [],
   "source": [
    "links  = standings_table.find_all('a')"
   ]
  },
  {
   "cell_type": "code",
   "execution_count": 17,
   "id": "d4d09888-e1c5-407b-a5dd-09c424f14671",
   "metadata": {},
   "outputs": [],
   "source": [
    "links = [l.get(\"href\") for l in links]"
   ]
  },
  {
   "cell_type": "code",
   "execution_count": 19,
   "id": "8307922b-eb76-4cd0-b7e0-f5f74b16c62e",
   "metadata": {},
   "outputs": [],
   "source": [
    "links = [l for l in links if '/squads/' in l]"
   ]
  },
  {
   "cell_type": "code",
   "execution_count": 25,
   "id": "21cf4234-38b7-481a-8d61-f4114b03d5bc",
   "metadata": {},
   "outputs": [],
   "source": [
    "team_urls = [f\"https://fbref.com{l}\" for l in links]"
   ]
  },
  {
   "cell_type": "code",
   "execution_count": 26,
   "id": "17371c60-a3a6-4697-a4f9-5316e8ede858",
   "metadata": {},
   "outputs": [
    {
     "data": {
      "text/plain": [
       "['https://fbref.com/en/squads/822bd0ba/Liverpool-Stats',\n",
       " 'https://fbref.com/en/squads/cff3d9bb/Chelsea-Stats',\n",
       " 'https://fbref.com/en/squads/18bb7c10/Arsenal-Stats',\n",
       " 'https://fbref.com/en/squads/e4a775cb/Nottingham-Forest-Stats',\n",
       " 'https://fbref.com/en/squads/b8fd03ef/Manchester-City-Stats',\n",
       " 'https://fbref.com/en/squads/4ba7cbea/Bournemouth-Stats',\n",
       " 'https://fbref.com/en/squads/8602292d/Aston-Villa-Stats',\n",
       " 'https://fbref.com/en/squads/fd962109/Fulham-Stats',\n",
       " 'https://fbref.com/en/squads/d07537b9/Brighton-and-Hove-Albion-Stats',\n",
       " 'https://fbref.com/en/squads/361ca564/Tottenham-Hotspur-Stats',\n",
       " 'https://fbref.com/en/squads/cd051869/Brentford-Stats',\n",
       " 'https://fbref.com/en/squads/b2b47a98/Newcastle-United-Stats',\n",
       " 'https://fbref.com/en/squads/19538871/Manchester-United-Stats',\n",
       " 'https://fbref.com/en/squads/7c21e445/West-Ham-United-Stats',\n",
       " 'https://fbref.com/en/squads/47c64c55/Crystal-Palace-Stats',\n",
       " 'https://fbref.com/en/squads/d3fd31cc/Everton-Stats',\n",
       " 'https://fbref.com/en/squads/a2d435b3/Leicester-City-Stats',\n",
       " 'https://fbref.com/en/squads/b74092de/Ipswich-Town-Stats',\n",
       " 'https://fbref.com/en/squads/8cec06e1/Wolverhampton-Wanderers-Stats',\n",
       " 'https://fbref.com/en/squads/33c895d4/Southampton-Stats']"
      ]
     },
     "execution_count": 26,
     "metadata": {},
     "output_type": "execute_result"
    }
   ],
   "source": [
    "team_urls"
   ]
  },
  {
   "cell_type": "code",
   "execution_count": 32,
   "id": "3675cee3-b607-4f39-974c-bf67b2097414",
   "metadata": {},
   "outputs": [],
   "source": [
    "team_url = team_urls[0]"
   ]
  },
  {
   "cell_type": "code",
   "execution_count": 33,
   "id": "c965dbcc-7786-4b64-b3b7-1e4c52213559",
   "metadata": {},
   "outputs": [],
   "source": [
    "data = requests.get(team_url)"
   ]
  },
  {
   "cell_type": "code",
   "execution_count": 38,
   "id": "e470711e-2f28-496b-9b51-a021b455b55d",
   "metadata": {},
   "outputs": [],
   "source": [
    "import pandas as pd \n",
    "from io import StringIO\n",
    "html_data = StringIO(data.text)\n",
    "\n",
    "matches = pd.read_html(html_data, match=\"Scores & Fixtures\")"
   ]
  },
  {
   "cell_type": "code",
   "execution_count": 39,
   "id": "6c2ec6f0-3f66-4c37-88a9-cc7c90339d43",
   "metadata": {},
   "outputs": [],
   "source": [
    "soup = BeautifulSoup(data.text)"
   ]
  },
  {
   "cell_type": "code",
   "execution_count": 40,
   "id": "56e236f3-8cd2-4ba0-9cd0-c0e49617ceec",
   "metadata": {},
   "outputs": [],
   "source": [
    "links =soup.find_all('a')"
   ]
  },
  {
   "cell_type": "code",
   "execution_count": 41,
   "id": "d4cb8838-5071-4265-b53b-409a8b858161",
   "metadata": {},
   "outputs": [],
   "source": [
    "links = [l.get(\"href\") for l in links]"
   ]
  },
  {
   "cell_type": "code",
   "execution_count": 44,
   "id": "b2177781-c0a6-412e-acc4-72838b0943bb",
   "metadata": {},
   "outputs": [],
   "source": [
    "links = [l for l in links if l and 'all_comps/shooting/' in l]"
   ]
  },
  {
   "cell_type": "code",
   "execution_count": 45,
   "id": "bde9ba44-c78c-4ebc-974a-15d90389b0d2",
   "metadata": {},
   "outputs": [],
   "source": [
    "data = requests.get(f\"https://fbref.com{links[0]}\")"
   ]
  },
  {
   "cell_type": "code",
   "execution_count": 48,
   "id": "034f0218-fb12-4764-bb25-c98975e68de3",
   "metadata": {},
   "outputs": [],
   "source": [
    "import pandas as pd \n",
    "from io import StringIO\n",
    "html_data = StringIO(data.text)\n",
    "shooting = pd.read_html(html_data, match=\"Shooting\")[0]"
   ]
  },
  {
   "cell_type": "code",
   "execution_count": 50,
   "id": "2c0e2223-d687-4bc8-9e05-604f4412476f",
   "metadata": {},
   "outputs": [],
   "source": [
    "shooting.columns = shooting.columns.droplevel()"
   ]
  },
  {
   "cell_type": "code",
   "execution_count": 55,
   "id": "9400f0b1-424f-42ce-bf6e-5498f1fa7960",
   "metadata": {},
   "outputs": [],
   "source": [
    "team_data= matches[0].merge(shooting[[\"Date\", \"Sh\", \"SoT\", \"Dist\", \"FK\", \"PK\", \"PKatt\"]], on=\"Date\")"
   ]
  },
  {
   "cell_type": "code",
   "execution_count": 59,
   "id": "8009fccd-7b08-4bf1-b41a-044006c24289",
   "metadata": {},
   "outputs": [
    {
     "data": {
      "text/plain": [
       "(24, 26)"
      ]
     },
     "execution_count": 59,
     "metadata": {},
     "output_type": "execute_result"
    }
   ],
   "source": [
    "shooting.shape"
   ]
  },
  {
   "cell_type": "code",
   "execution_count": 61,
   "id": "0b153076-3759-4d4f-903d-4b278d078740",
   "metadata": {},
   "outputs": [],
   "source": [
    "years = list(range(2024, 2020, -1))"
   ]
  },
  {
   "cell_type": "code",
   "execution_count": 62,
   "id": "508ff036-2367-4257-a2b2-66704e86fd0d",
   "metadata": {},
   "outputs": [
    {
     "data": {
      "text/plain": [
       "[2024, 2023, 2022, 2021]"
      ]
     },
     "execution_count": 62,
     "metadata": {},
     "output_type": "execute_result"
    }
   ],
   "source": [
    "years"
   ]
  },
  {
   "cell_type": "code",
   "execution_count": 63,
   "id": "acdfcaa0-51df-478d-a27e-433581a33a09",
   "metadata": {},
   "outputs": [],
   "source": [
    "all_matches =[]"
   ]
  },
  {
   "cell_type": "code",
   "execution_count": 64,
   "id": "89b4b1ec-4371-430b-b0f5-e5aa3d2777a7",
   "metadata": {},
   "outputs": [],
   "source": [
    "standings_url = \"https://fbref.com/en/comps/9/Premier-League-Stats\""
   ]
  },
  {
   "cell_type": "code",
   "execution_count": 114,
   "id": "4e8f60a6-a187-46df-b5a8-d3db9a9edb99",
   "metadata": {},
   "outputs": [
    {
     "ename": "IndexError",
     "evalue": "list index out of range",
     "output_type": "error",
     "traceback": [
      "\u001b[1;31m---------------------------------------------------------------------------\u001b[0m",
      "\u001b[1;31mIndexError\u001b[0m                                Traceback (most recent call last)",
      "Cell \u001b[1;32mIn[114], line 5\u001b[0m\n\u001b[0;32m      3\u001b[0m data \u001b[38;5;241m=\u001b[39m requests\u001b[38;5;241m.\u001b[39mget(standings_url)\n\u001b[0;32m      4\u001b[0m soup \u001b[38;5;241m=\u001b[39m BeautifulSoup(data\u001b[38;5;241m.\u001b[39mtext)\n\u001b[1;32m----> 5\u001b[0m standings_table \u001b[38;5;241m=\u001b[39m soup\u001b[38;5;241m.\u001b[39mselect(\u001b[38;5;124m'\u001b[39m\u001b[38;5;124mtable.stats_table\u001b[39m\u001b[38;5;124m'\u001b[39m)[\u001b[38;5;241m0\u001b[39m]\n\u001b[0;32m      7\u001b[0m links \u001b[38;5;241m=\u001b[39m [l\u001b[38;5;241m.\u001b[39mget(\u001b[38;5;124m\"\u001b[39m\u001b[38;5;124mhref\u001b[39m\u001b[38;5;124m\"\u001b[39m) \u001b[38;5;28;01mfor\u001b[39;00m l \u001b[38;5;129;01min\u001b[39;00m standings_table\u001b[38;5;241m.\u001b[39mfind_all(\u001b[38;5;124m'\u001b[39m\u001b[38;5;124ma\u001b[39m\u001b[38;5;124m'\u001b[39m)]\n\u001b[0;32m      8\u001b[0m links \u001b[38;5;241m=\u001b[39m [l \u001b[38;5;28;01mfor\u001b[39;00m l \u001b[38;5;129;01min\u001b[39;00m links \u001b[38;5;28;01mif\u001b[39;00m \u001b[38;5;124m'\u001b[39m\u001b[38;5;124m/squads/\u001b[39m\u001b[38;5;124m'\u001b[39m \u001b[38;5;129;01min\u001b[39;00m l]\n",
      "\u001b[1;31mIndexError\u001b[0m: list index out of range"
     ]
    }
   ],
   "source": [
    "import time\n",
    "for year in years:\n",
    "    data = requests.get(standings_url)\n",
    "    soup = BeautifulSoup(data.text)\n",
    "    standings_table = soup.select('table.stats_table')[0]\n",
    "\n",
    "    links = [l.get(\"href\") for l in standings_table.find_all('a')]\n",
    "    links = [l for l in links if '/squads/' in l]\n",
    "    team_urls = [\"https://fbref.com{l}\" for l in links]\n",
    "    \n",
    "    previous_season = soup.select(\"a.prev\")[0].get(\"href\")\n",
    "    standings_url = \"https://fbref.com{previous_season}\"\n",
    "    \n",
    "    for team_url in team_urls:\n",
    "        team_name = team_url.split(\"/\")[-1].replace(\"-Stats\", \"\").replace(\"-\", \" \")\n",
    "        data = requests.get(team_url)\n",
    "        matches = pd.read_html(data.text, match=\"Scores & Fixtures\")[0]\n",
    "        soup = BeautifulSoup(data.text)\n",
    "        links = [l.get(\"href\") for l in soup.find_all('a')]\n",
    "        links = [l for l in links if l and 'all_comps/shooting/' in l]\n",
    "        data = requests.get(\"https://fbref.com{links[0]}\")\n",
    "        shooting = pd.read_html(data.text, match=\"Shooting\")[0]\n",
    "        shooting.columns = shooting.columns.droplevel()\n",
    "        try:\n",
    "            team_data = matches.merge(shooting[[\"Date\", \"Sh\", \"SoT\", \"Dist\", \"FK\", \"PK\", \"PKatt\"]], on=\"Date\")\n",
    "        except ValueError:\n",
    "            continue\n",
    "        team_data = team_data[team_data[\"Comp\"] == \"Premier League\"]\n",
    "        \n",
    "        team_data[\"Season\"] = year\n",
    "        team_data[\"Team\"] = team_name\n",
    "        all_matches.append(team_data)\n",
    "        time.sleep(1)"
   ]
  },
  {
   "cell_type": "code",
   "execution_count": 5,
   "id": "9d1daf80-d6d9-4781-9de8-8448bee6dc0f",
   "metadata": {},
   "outputs": [
    {
     "ename": "NameError",
     "evalue": "name 'requests' is not defined",
     "output_type": "error",
     "traceback": [
      "\u001b[1;31m---------------------------------------------------------------------------\u001b[0m",
      "\u001b[1;31mNameError\u001b[0m                                 Traceback (most recent call last)",
      "Cell \u001b[1;32mIn[5], line 2\u001b[0m\n\u001b[0;32m      1\u001b[0m \u001b[38;5;28;01mfrom\u001b[39;00m \u001b[38;5;21;01mbs4\u001b[39;00m \u001b[38;5;28;01mimport\u001b[39;00m BeautifulSoup\n\u001b[1;32m----> 2\u001b[0m data \u001b[38;5;241m=\u001b[39m requests\u001b[38;5;241m.\u001b[39mget(standings_url)\n\u001b[0;32m      3\u001b[0m soup \u001b[38;5;241m=\u001b[39m BeautifulSoup(data\u001b[38;5;241m.\u001b[39mtext)\n\u001b[0;32m      4\u001b[0m standings_table \u001b[38;5;241m=\u001b[39m soup\u001b[38;5;241m.\u001b[39mselect(\u001b[38;5;124m'\u001b[39m\u001b[38;5;124mtable.stats_table\u001b[39m\u001b[38;5;124m'\u001b[39m)[\u001b[38;5;241m0\u001b[39m]\n",
      "\u001b[1;31mNameError\u001b[0m: name 'requests' is not defined"
     ]
    }
   ],
   "source": [
    "from bs4 import BeautifulSoup\n",
    "data = requests.get(standings_url)\n",
    "soup = BeautifulSoup(data.text)\n",
    "standings_table = soup.select('table.stats_table')[0]\n",
    "print(soup.prettify())"
   ]
  },
  {
   "cell_type": "code",
   "execution_count": 114,
   "id": "350c4266-09d5-4858-a9bb-14aa121c9f63",
   "metadata": {},
   "outputs": [
    {
     "ename": "IndexError",
     "evalue": "list index out of range",
     "output_type": "error",
     "traceback": [
      "\u001b[1;31m---------------------------------------------------------------------------\u001b[0m",
      "\u001b[1;31mIndexError\u001b[0m                                Traceback (most recent call last)",
      "Cell \u001b[1;32mIn[114], line 5\u001b[0m\n\u001b[0;32m      3\u001b[0m data \u001b[38;5;241m=\u001b[39m requests\u001b[38;5;241m.\u001b[39mget(standings_url)\n\u001b[0;32m      4\u001b[0m soup \u001b[38;5;241m=\u001b[39m BeautifulSoup(data\u001b[38;5;241m.\u001b[39mtext)\n\u001b[1;32m----> 5\u001b[0m standings_table \u001b[38;5;241m=\u001b[39m soup\u001b[38;5;241m.\u001b[39mselect(\u001b[38;5;124m'\u001b[39m\u001b[38;5;124mtable.stats_table\u001b[39m\u001b[38;5;124m'\u001b[39m)[\u001b[38;5;241m0\u001b[39m]\n\u001b[0;32m      7\u001b[0m links \u001b[38;5;241m=\u001b[39m [l\u001b[38;5;241m.\u001b[39mget(\u001b[38;5;124m\"\u001b[39m\u001b[38;5;124mhref\u001b[39m\u001b[38;5;124m\"\u001b[39m) \u001b[38;5;28;01mfor\u001b[39;00m l \u001b[38;5;129;01min\u001b[39;00m standings_table\u001b[38;5;241m.\u001b[39mfind_all(\u001b[38;5;124m'\u001b[39m\u001b[38;5;124ma\u001b[39m\u001b[38;5;124m'\u001b[39m)]\n\u001b[0;32m      8\u001b[0m links \u001b[38;5;241m=\u001b[39m [l \u001b[38;5;28;01mfor\u001b[39;00m l \u001b[38;5;129;01min\u001b[39;00m links \u001b[38;5;28;01mif\u001b[39;00m \u001b[38;5;124m'\u001b[39m\u001b[38;5;124m/squads/\u001b[39m\u001b[38;5;124m'\u001b[39m \u001b[38;5;129;01min\u001b[39;00m l]\n",
      "\u001b[1;31mIndexError\u001b[0m: list index out of range"
     ]
    }
   ],
   "source": [
    "import time\n",
    "for year in years:\n",
    "    data = requests.get(standings_url)\n",
    "    soup = BeautifulSoup(data.text)\n",
    "    standings_table = soup.select('table.stats_table')[0]\n",
    "\n",
    "    links = [l.get(\"href\") for l in standings_table.find_all('a')]\n",
    "    links = [l for l in links if '/squads/' in l]\n",
    "    team_urls = [\"https://fbref.com{l}\" for l in links]\n",
    "    \n",
    "    previous_season = soup.select(\"a.prev\")[0].get(\"href\")\n",
    "    standings_url = \"https://fbref.com{previous_season}\"\n",
    "    \n",
    "    for team_url in team_urls:\n",
    "        team_name = team_url.split(\"/\")[-1].replace(\"-Stats\", \"\").replace(\"-\", \" \")\n",
    "        data = requests.get(team_url)\n",
    "        matches = pd.read_html(data.text, match=\"Scores & Fixtures\")[0]\n",
    "        soup = BeautifulSoup(data.text)\n",
    "        links = [l.get(\"href\") for l in soup.find_all('a')]\n",
    "        links = [l for l in links if l and 'all_comps/shooting/' in l]\n",
    "        data = requests.get(\"https://fbref.com{links[0]}\")\n",
    "        shooting = pd.read_html(data.text, match=\"Shooting\")[0]\n",
    "        shooting.columns = shooting.columns.droplevel()\n",
    "        try:\n",
    "            team_data = matches.merge(shooting[[\"Date\", \"Sh\", \"SoT\", \"Dist\", \"FK\", \"PK\", \"PKatt\"]], on=\"Date\")\n",
    "        except ValueError:\n",
    "            continue\n",
    "        team_data = team_data[team_data[\"Comp\"] == \"Premier League\"]\n",
    "        \n",
    "        team_data[\"Season\"] = year\n",
    "        team_data[\"Team\"] = team_name\n",
    "        all_matches.append(team_data)\n",
    "        time.sleep(1)"
   ]
  },
  {
   "cell_type": "code",
   "execution_count": 115,
   "id": "b50346a6-fbb3-4d6a-a41d-5f1480a131db",
   "metadata": {},
   "outputs": [
    {
     "data": {
      "text/plain": [
       "[]"
      ]
     },
     "execution_count": 115,
     "metadata": {},
     "output_type": "execute_result"
    }
   ],
   "source": [
    "standings_table"
   ]
  },
  {
   "cell_type": "code",
   "execution_count": 76,
   "id": "00bbabbd-b98e-4a0d-9d96-676a64cb930d",
   "metadata": {},
   "outputs": [],
   "source": [
    "match_df.to_csv(\"matches.csv\")"
   ]
  },
  {
   "cell_type": "markdown",
   "id": "c9448cba-fd88-4417-ab94-4ff2ef154d7b",
   "metadata": {},
   "source": [
    "match_df"
   ]
  },
  {
   "cell_type": "code",
   "execution_count": null,
   "id": "317f85f4-0000-4493-87d9-073718b541bc",
   "metadata": {},
   "outputs": [],
   "source": []
  }
 ],
 "metadata": {
  "kernelspec": {
   "display_name": "Python 3 (ipykernel)",
   "language": "python",
   "name": "python3"
  },
  "language_info": {
   "codemirror_mode": {
    "name": "ipython",
    "version": 3
   },
   "file_extension": ".py",
   "mimetype": "text/x-python",
   "name": "python",
   "nbconvert_exporter": "python",
   "pygments_lexer": "ipython3",
   "version": "3.12.7"
  }
 },
 "nbformat": 4,
 "nbformat_minor": 5
}
